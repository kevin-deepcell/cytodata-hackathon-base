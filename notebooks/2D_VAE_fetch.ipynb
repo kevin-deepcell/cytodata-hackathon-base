{
 "cells": [
  {
   "cell_type": "code",
   "execution_count": 1,
   "id": "51223bb3-88a8-4eca-88e9-9397a99b697e",
   "metadata": {},
   "outputs": [
    {
     "name": "stderr",
     "output_type": "stream",
     "text": [
      "20-Oct-22 16:16:10 - bfio.backends - WARNING  - Java backend is not available. This could be due to a missing dependency (jpype).\n"
     ]
    }
   ],
   "source": [
    "import numpy as np\n",
    "import pandas as pd\n",
    "import mlflow\n",
    "from serotiny.io.image import image_loader\n",
    "import matplotlib.pyplot as plt"
   ]
  },
  {
   "cell_type": "code",
   "execution_count": 2,
   "id": "4d179409-d6af-40d3-907c-592749c96b90",
   "metadata": {},
   "outputs": [],
   "source": [
    "import os\n",
    "os.chdir(\"/home/aicsuser/cytodata-hackathon-base\")"
   ]
  },
  {
   "cell_type": "code",
   "execution_count": 3,
   "id": "1e3c97a4-4916-4f25-8b2e-0ecc5874069e",
   "metadata": {},
   "outputs": [],
   "source": [
    "df_mitocells = pd.read_csv('/home/aicsuser/serotiny_data/mitocells.csv')"
   ]
  },
  {
   "cell_type": "code",
   "execution_count": 10,
   "id": "d3cac1b7-4ce4-4e0d-b1ac-55ed904c28cf",
   "metadata": {},
   "outputs": [
    {
     "name": "stdout",
     "output_type": "stream",
     "text": [
      "[2022-10-20 18:13:25,084][pytorch_lightning.utilities.seed][INFO] - Global seed set to 42\n",
      "[2022-10-20 18:13:25,085][serotiny.ml_ops.ml_ops][INFO] - Instantiating datamodule\n",
      "[2022-10-20 18:13:27,642][serotiny.ml_ops.ml_ops][INFO] - Instantiating trainer\n",
      "/opt/conda/lib/python3.10/site-packages/pytorch_lightning/loops/utilities.py:91: PossibleUserWarning: `max_epochs` was not set. Setting it to 1000 epochs. To train without an epoch limit, set `max_epochs=-1`.\n",
      "  rank_zero_warn(\n",
      "[2022-10-20 18:13:27,808][pytorch_lightning.utilities.rank_zero][INFO] - GPU available: True, used: False\n",
      "[2022-10-20 18:13:27,808][pytorch_lightning.utilities.rank_zero][INFO] - TPU available: False, using: 0 TPU cores\n",
      "[2022-10-20 18:13:27,809][pytorch_lightning.utilities.rank_zero][INFO] - IPU available: False, using: 0 IPUs\n",
      "[2022-10-20 18:13:27,809][pytorch_lightning.utilities.rank_zero][INFO] - HPU available: False, using: 0 HPUs\n",
      "/opt/conda/lib/python3.10/site-packages/pytorch_lightning/trainer/trainer.py:1812: PossibleUserWarning: GPU available but not used. Set `accelerator` and `devices` using `Trainer(accelerator='gpu', devices=1)`.\n",
      "  rank_zero_warn(\n",
      "[2022-10-20 18:13:27,809][serotiny.ml_ops.ml_ops][INFO] - Instantiating model\n",
      "[2022-10-20 18:13:28,003][serotiny.networks.basic_cnn.basic_cnn][INFO] - Determined 'compressed size': 21476 for CNN\n",
      "[2022-10-20 18:13:28,490][serotiny.networks.basic_cnn.basic_cnn][INFO] - Determined 'compressed size': 48246 for CNN\n",
      "[2022-10-20 18:13:28,580][torch.distributed.nn.jit.instantiator][INFO] - Created a temporary directory at /tmp/tmpcthcz_hn\n",
      "[2022-10-20 18:13:28,580][torch.distributed.nn.jit.instantiator][INFO] - Writing /tmp/tmpcthcz_hn/_remote_module_non_scriptable.py\n",
      "[2022-10-20 18:13:28,598][serotiny.ml_ops.mlflow_utils][INFO] - Validating and processing MLFlow configuration\n",
      "/opt/conda/lib/python3.10/site-packages/serotiny/ml_ops/mlflow_utils.py:156: FutureWarning: ``mlflow.tracking.fluent.list_run_infos`` is deprecated. This method will be removed in a future release. Use ``search_runs()`` instead.\n",
      "  for run_info in mlflow.list_run_infos(experiment_id=experiment_id):\n",
      "/opt/conda/lib/python3.10/site-packages/mlflow/tracking/fluent.py:1599: FutureWarning: ``mlflow.tracking.client.MlflowClient.list_run_infos`` is deprecated. This method will be removed in a future release. Use ``search_runs()`` instead.\n",
      "  return MlflowClient().list_run_infos(\n",
      "[2022-10-20 18:14:53,530][serotiny.networks.basic_cnn.basic_cnn][INFO] - Determined 'compressed size': 21476 for CNN\n",
      "[2022-10-20 18:14:54,019][serotiny.networks.basic_cnn.basic_cnn][INFO] - Determined 'compressed size': 48246 for CNN\n",
      "[2022-10-20 18:14:54,270][serotiny.ml_ops.mlflow_utils][INFO] - Calling trainer.test\n",
      "Testing DataLoader 0: 100%|█████████████████████| 13/13 [00:48<00:00,  7.21s/it][2022-10-20 18:16:12,540][cytodata_aics.vae_utils][INFO] - Getting embeddings for split: train\n",
      "[2022-10-20 18:22:11,269][cytodata_aics.vae_utils][INFO] - Getting embeddings for split: val\n",
      "[2022-10-20 18:24:15,957][cytodata_aics.vae_utils][INFO] - Getting embeddings for split: test\n",
      "[2022-10-20 18:25:35,618][cytodata_aics.vae_utils][INFO] - Looping over outputs\n",
      "\n",
      "100%|████████████████████████████████████████| 13/13 [00:00<00:00, 11835.46it/s]\u001b[A\n",
      "2022/10/20 18:25:37 WARNING mlflow.utils.autologging_utils: Encountered unexpected error during autologging: __MLflowPLCallback._log_metrics() missing 1 required positional argument: 'metric_items'\n",
      "Testing DataLoader 0: 100%|█████████████████████| 13/13 [10:13<00:00, 47.20s/it]\n"
     ]
    }
   ],
   "source": [
    "!serotiny test \\\n",
    "    model=vae_2d_meany \\\n",
    "    data=vae_dataloader_2d_meany \\\n",
    "    mlflow.experiment_name=tbd \\\n",
    "    mlflow.run_name='tbd_run_meany' \\\n",
    "    trainer/callbacks=vae \\\n",
    "    ++force=True"
   ]
  },
  {
   "cell_type": "code",
   "execution_count": 11,
   "id": "872ab90e-8e66-412f-9f5d-53ff82906d1b",
   "metadata": {},
   "outputs": [
    {
     "name": "stderr",
     "output_type": "stream",
     "text": [
      "/opt/conda/lib/python3.10/site-packages/serotiny/ml_ops/mlflow_utils.py:144: FutureWarning: ``mlflow.tracking.fluent.list_experiments`` is deprecated. This method will be removed in a future release. Use ``search_experiments()`` instead.\n",
      "  for _experiment in mlflow.list_experiments():\n",
      "/opt/conda/lib/python3.10/site-packages/mlflow/tracking/fluent.py:1066: FutureWarning: ``mlflow.tracking.client.MlflowClient.list_experiments`` is deprecated. This method will be removed in a future release. Use ``search_experiments()`` instead.\n",
      "  return MlflowClient().list_experiments(\n",
      "/opt/conda/lib/python3.10/site-packages/serotiny/ml_ops/mlflow_utils.py:156: FutureWarning: ``mlflow.tracking.fluent.list_run_infos`` is deprecated. This method will be removed in a future release. Use ``search_runs()`` instead.\n",
      "  for run_info in mlflow.list_run_infos(experiment_id=experiment_id):\n",
      "/opt/conda/lib/python3.10/site-packages/mlflow/tracking/fluent.py:1599: FutureWarning: ``mlflow.tracking.client.MlflowClient.list_run_infos`` is deprecated. This method will be removed in a future release. Use ``search_runs()`` instead.\n",
      "  return MlflowClient().list_run_infos(\n",
      "/opt/conda/lib/python3.10/site-packages/serotiny/ml_ops/mlflow_utils.py:144: FutureWarning: ``mlflow.tracking.fluent.list_experiments`` is deprecated. This method will be removed in a future release. Use ``search_experiments()`` instead.\n",
      "  for _experiment in mlflow.list_experiments():\n",
      "/opt/conda/lib/python3.10/site-packages/mlflow/tracking/fluent.py:1066: FutureWarning: ``mlflow.tracking.client.MlflowClient.list_experiments`` is deprecated. This method will be removed in a future release. Use ``search_experiments()`` instead.\n",
      "  return MlflowClient().list_experiments(\n",
      "/opt/conda/lib/python3.10/site-packages/serotiny/ml_ops/mlflow_utils.py:156: FutureWarning: ``mlflow.tracking.fluent.list_run_infos`` is deprecated. This method will be removed in a future release. Use ``search_runs()`` instead.\n",
      "  for run_info in mlflow.list_run_infos(experiment_id=experiment_id):\n",
      "/opt/conda/lib/python3.10/site-packages/mlflow/tracking/fluent.py:1599: FutureWarning: ``mlflow.tracking.client.MlflowClient.list_run_infos`` is deprecated. This method will be removed in a future release. Use ``search_runs()`` instead.\n",
      "  return MlflowClient().list_run_infos(\n"
     ]
    }
   ],
   "source": [
    "from serotiny.ml_ops.mlflow_utils import download_artifact\n",
    "\n",
    "mlflow.set_tracking_uri(\"http://mlflow.mlflow.svc.cluster.local\")\n",
    "\n",
    "with download_artifact(\"dataframes/embeddings.csv\", experiment_name=\"tbd\", run_name='tbd_run_meany') as path:\n",
    "    embeddings = pd.read_csv(path)\n",
    "    \n",
    "with download_artifact(\"dataframes/stats_per_dim_test.csv\", experiment_name=\"tbd\", run_name='tbd_run_meany') as path:\n",
    "    kl_per_dimension = pd.read_csv(path)"
   ]
  },
  {
   "cell_type": "code",
   "execution_count": 12,
   "id": "0304025f-b804-44be-8b8d-fbcc705df770",
   "metadata": {},
   "outputs": [],
   "source": [
    "embeddings.to_csv('/home/aicsuser/features/meany_embed.csv')\n",
    "kl_per_dimension.to_csv('/home/aicsuser/features/meany_kl.csv')"
   ]
  },
  {
   "cell_type": "code",
   "execution_count": null,
   "id": "4a3c57de-5d1f-40d9-a486-6a7c300aece7",
   "metadata": {},
   "outputs": [],
   "source": []
  }
 ],
 "metadata": {
  "kernelspec": {
   "display_name": "Python 3 (ipykernel)",
   "language": "python",
   "name": "python3"
  },
  "language_info": {
   "codemirror_mode": {
    "name": "ipython",
    "version": 3
   },
   "file_extension": ".py",
   "mimetype": "text/x-python",
   "name": "python",
   "nbconvert_exporter": "python",
   "pygments_lexer": "ipython3",
   "version": "3.10.6"
  }
 },
 "nbformat": 4,
 "nbformat_minor": 5
}
