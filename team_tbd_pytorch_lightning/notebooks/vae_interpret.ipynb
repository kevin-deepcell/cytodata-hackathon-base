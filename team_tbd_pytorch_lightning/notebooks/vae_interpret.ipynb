{
 "cells": [
  {
   "cell_type": "code",
   "execution_count": null,
   "metadata": {},
   "outputs": [
    {
     "ename": "",
     "evalue": "",
     "output_type": "error",
     "traceback": [
      "\u001b[1;31mFailed to connect to the remote Jupyter Server 'https://cytodata.allencell.org/'. Verify the server is running and reachable. (request to https://cytodata.allencell.org/user/dummyindex/api/kernels?1666278544849 failed, reason: socket hang up)."
     ]
    }
   ],
   "source": [
    "import os\n",
    "os.chdir(\"/home/aicsuser/cytodata-hackathon-base\")"
   ]
  },
  {
   "cell_type": "code",
   "execution_count": null,
   "metadata": {},
   "outputs": [],
   "source": [
    "import serotiny.models.vae as vae"
   ]
  },
  {
   "cell_type": "code",
   "execution_count": null,
   "metadata": {},
   "outputs": [],
   "source": [
    "import torch\n",
    "import torch.nn\n",
    "\n",
    "ckpt_path = r\"/home/aicsuser/cytodata-hackathon-base/model_ckpts/team_tbd_vae_3d_run_20221019_222123_bf_model0_mitocells_filtered_rloss7k_kld800.ckpt\"\n",
    "latent_dim = 512\n",
    "in_channels = 1\n",
    "hidden_channels= [2, 2, 2, 2]\n",
    "max_pool_layers= [2]\n",
    "input_dims= [32, 60, 94] # level 2 image shape\n",
    "vae_beta = 1.0\n",
    "non_linearity = torch.nn.ReLU\n",
    "x_label = \"image\"\n",
    "vae_model = vae.ImageVAE(latent_dim=latent_dim,\n",
    "    in_channels=in_channels,\n",
    "    hidden_channels=hidden_channels,\n",
    "    max_pool_layers=max_pool_layers,\n",
    "    input_dims=input_dims,\n",
    "    x_label=x_label,\n",
    "    prior = {\n",
    "        \"image\": vae.priors.IsotropicGaussianPrior()\n",
    "    })"
   ]
  },
  {
   "cell_type": "code",
   "execution_count": null,
   "metadata": {},
   "outputs": [],
   "source": [
    "vae_model.load_state_dict(torch.load(ckpt_path)[\"state_dict\"])"
   ]
  },
  {
   "cell_type": "code",
   "execution_count": null,
   "metadata": {},
   "outputs": [],
   "source": [
    "import warnings\n",
    "import pandas as pd\n",
    "import plotly.express as px\n",
    "import numpy as np\n",
    "from aicsimageprocessing import diagnostic_sheet, read_ome_zarr, rescale_image, imgtoprojection\n",
    "from datetime import datetime\n",
    "import nbvv"
   ]
  }
 ],
 "metadata": {
  "kernelspec": {
   "display_name": "Python 3 (ipykernel)",
   "language": "python",
   "name": "python3"
  },
  "orig_nbformat": 4,
  "vscode": {
   "interpreter": {
    "hash": "73a99b54321d56819ac214e2bec2265ae371e99f931e60a5d4e2c2e7a45b5580"
   }
  }
 },
 "nbformat": 4,
 "nbformat_minor": 2
}
